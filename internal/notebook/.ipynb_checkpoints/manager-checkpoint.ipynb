{
 "cells": [
  {
   "cell_type": "raw",
   "metadata": {},
   "source": []
  },
  {
   "cell_type": "code",
   "execution_count": 2,
   "metadata": {
    "ExecuteTime": {
     "end_time": "2025-05-04T06:30:30Z",
     "start_time": "2025-05-04T06:30:30Z"
    }
   },
   "outputs": [
    {
     "ename": "ERROR",
     "evalue": "repl.go:2:5: error loading package \"github.com/cukhoaimon/khoainats/internal/notebook\" metadata, maybe you need to download (go get), compile (go build) and install (go install) it? can't find import: \"github.com/cukhoaimon/khoainats/internal/notebook\"",
     "output_type": "error",
     "traceback": [
      "repl.go:2:5: error loading package \"github.com/cukhoaimon/khoainats/internal/notebook\" metadata, maybe you need to download (go get), compile (go build) and install (go install) it? can't find import: \"github.com/cukhoaimon/khoainats/internal/notebook\""
     ]
    }
   ],
   "source": [
    "import (\n",
    "    \"github.com/cukhoaimon/khoainats/internal/notebook\"\n",
    ")"
   ]
  },
  {
   "cell_type": "code",
   "execution_count": null,
   "metadata": {},
   "outputs": [],
   "source": []
  }
 ],
 "metadata": {
  "kernelspec": {
   "display_name": "Go",
   "language": "go",
   "name": "gophernotes"
  },
  "language_info": {
   "codemirror_mode": "",
   "file_extension": ".go",
   "mimetype": "",
   "name": "go",
   "nbconvert_exporter": "",
   "pygments_lexer": "",
   "version": "go1.11.4"
  }
 },
 "nbformat": 4,
 "nbformat_minor": 5
}
