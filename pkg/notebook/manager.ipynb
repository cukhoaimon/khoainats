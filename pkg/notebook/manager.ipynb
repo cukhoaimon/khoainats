{
 "cells": [
  {
   "cell_type": "code",
   "execution_count": 6,
   "metadata": {},
   "outputs": [
    {
     "ename": "ERROR",
     "evalue": "repl.go:1:8: error loading package \"github.com/cukhoaimon/khoainats\" metadata, maybe you need to download (go get), compile (go build) and install (go install) it? can't find import: \"github.com/cukhoaimon/khoainats\"",
     "output_type": "error",
     "traceback": [
      "repl.go:1:8: error loading package \"github.com/cukhoaimon/khoainats\" metadata, maybe you need to download (go get), compile (go build) and install (go install) it? can't find import: \"github.com/cukhoaimon/khoainats\""
     ]
    }
   ],
   "source": [
    "import (\n",
    "    \"github.com/cukhoaimon/khoainats\"\n",
    ")"
   ]
  },
  {
   "cell_type": "code",
   "execution_count": 9,
   "metadata": {
    "ExecuteTime": {
     "end_time": "2025-05-04T06:30:30Z",
     "start_time": "2025-05-04T06:30:30Z"
    }
   },
   "outputs": [
    {
     "ename": "ERROR",
     "evalue": "repl.go:1:1: expected statement, found ':'",
     "output_type": "error",
     "traceback": [
      "repl.go:1:1: expected statement, found ':'"
     ]
    }
   ],
   "source": []
  },
  {
   "cell_type": "code",
   "execution_count": 8,
   "metadata": {},
   "outputs": [
    {
     "ename": "ERROR",
     "evalue": "repl.go:1:1: expected statement, found '%'",
     "output_type": "error",
     "traceback": [
      "repl.go:1:1: expected statement, found '%'"
     ]
    }
   ],
   "source": []
  },
  {
   "cell_type": "code",
   "execution_count": null,
   "metadata": {},
   "outputs": [],
   "source": []
  }
 ],
 "metadata": {
  "kernelspec": {
   "display_name": "Go",
   "language": "go",
   "name": "gophernotes"
  },
  "language_info": {
   "codemirror_mode": "",
   "file_extension": ".go",
   "mimetype": "",
   "name": "go",
   "nbconvert_exporter": "",
   "pygments_lexer": "",
   "version": "go1.11.4"
  }
 },
 "nbformat": 4,
 "nbformat_minor": 5
}
